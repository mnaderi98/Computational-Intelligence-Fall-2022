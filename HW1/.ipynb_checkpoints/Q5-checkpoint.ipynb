{
 "cells": [
  {
   "cell_type": "markdown",
   "id": "1a0c6ee8",
   "metadata": {},
   "source": [
    "# Q5\n",
    "calling libraries"
   ]
  },
  {
   "cell_type": "code",
   "execution_count": 1,
   "id": "9ebb6359",
   "metadata": {},
   "outputs": [],
   "source": [
    "import numpy as np\n",
    "import matplotlib.pyplot as plt"
   ]
  },
  {
   "cell_type": "markdown",
   "id": "786af9e7",
   "metadata": {},
   "source": [
    "#### input and output for Nor function"
   ]
  },
  {
   "cell_type": "code",
   "execution_count": 2,
   "id": "d6ab1139",
   "metadata": {},
   "outputs": [],
   "source": [
    "x_train = np.array([\n",
    "  [0.0, 0.0, 1.0, 1.0], # Input feature x1\n",
    "  [0.0, 1.0, 0.1, 1.0], # Input feature x2\n",
    "])\n",
    "\n",
    "y_train = np.array([\n",
    "  [1.0, 0.0, 0.0, 0.0]\n",
    "])"
   ]
  },
  {
   "cell_type": "markdown",
   "id": "22460b9a",
   "metadata": {},
   "source": [
    "#### sigmoid function\n",
    "#### predict function\n",
    "#### loss function\n",
    "#### cost function\n",
    "#### Accuracy function"
   ]
  },
  {
   "cell_type": "code",
   "execution_count": 3,
   "id": "a9dcac04",
   "metadata": {},
   "outputs": [],
   "source": [
    "np.random.seed(1)\n",
    "\n",
    "def sigmoid(x):\n",
    "  return 1. / (1 + np.exp(-x))\n",
    "\n",
    "def predict(x, w, b):\n",
    "  return sigmoid(np.dot(w, x) + b)\n",
    "\n",
    "def CEE(y_predict, y):\n",
    "  m = y.shape[1]\n",
    "  loss = -1 * (y * np.log(y_predict) + (1 - y) * np.log(1 - y_predict))\n",
    "  cost = (1 / m) * np.sum(loss)\n",
    "  return loss, cost\n",
    "\n",
    "def MSE(y_predict, y):\n",
    "  m = y.shape[1]\n",
    "  loss = 1/2 * (y_predict - y)**2\n",
    "  cost = (1 / m) * np.sum(loss)\n",
    "  return loss, cost\n",
    "\n",
    "def computeAccuracy(y_predict, y):\n",
    "  return 100 - np.mean(np.abs(y_predict - y)) * 100"
   ]
  },
  {
   "cell_type": "markdown",
   "id": "7d191ce0",
   "metadata": {},
   "source": [
    "#### Perceptron Model"
   ]
  },
  {
   "cell_type": "code",
   "execution_count": 4,
   "id": "7059d25b",
   "metadata": {},
   "outputs": [],
   "source": [
    "def perceptron(x, y, learning_rate, iterations, iter_log):\n",
    "  # Get dimensionals\n",
    "  feat, m = x.shape\n",
    "\n",
    "  # Init parameters\n",
    "  # In 1 layer NN initializing parameters to 0 or random doesn't matter\n",
    "  w = np.random.randn(1, feat) * 0.01\n",
    "  b = np.random.randn() * 0.01\n",
    "  costs = []\n",
    "  accuracies = []\n",
    "  \n",
    "  # Batch Gradient Descent\n",
    "  for i in range(iterations):\n",
    "    # Forward propagation\n",
    "    y_predict = predict(x, w, b)\n",
    "\n",
    "    # Cost and Accuracy\n",
    "    difference = y_predict - y\n",
    "    loss, cost = CEE(y_predict, y)\n",
    "    costs.append(cost)\n",
    "    accuracy = computeAccuracy(y_predict, y)\n",
    "    accuracies.append(accuracy)\n",
    "\n",
    "    # Backward propagation\n",
    "    dw = difference * x\n",
    "    db = difference\n",
    "    dW = (1 / m) * np.sum(dw, axis=1)\n",
    "    dB = (1 / m) * np.sum(db, axis=1)\n",
    "  \n",
    "    # Update parameters\n",
    "    w -= learning_rate * dW\n",
    "    b -= learning_rate * dB\n",
    "\n",
    "    # Print cost and accuracy\n",
    "    if (not iter_log == 0) and (i % iter_log == 0 or i == iterations - 1):\n",
    "      print('Iteration:', i, '  cost:', cost, ' accuracy:', accuracy)\n",
    "\n",
    "  report = {\n",
    "      'costs': costs,\n",
    "      'accuracies': accuracies\n",
    "  }\n",
    "\n",
    "  return w, b, report"
   ]
  },
  {
   "cell_type": "markdown",
   "id": "c249dad4",
   "metadata": {},
   "source": [
    "#### using Model"
   ]
  },
  {
   "cell_type": "code",
   "execution_count": 5,
   "id": "fd7da16e",
   "metadata": {},
   "outputs": [
    {
     "name": "stdout",
     "output_type": "stream",
     "text": [
      "Iteration: 0   cost: 0.6942907673465892  accuracy: 49.94327126977759\n",
      "Iteration: 100   cost: 0.1720877239902287  accuracy: 85.11776563650365\n",
      "Iteration: 200   cost: 0.10082973695097004  accuracy: 90.72794169583425\n",
      "Iteration: 300   cost: 0.07024261807555526  accuracy: 93.37266143644224\n",
      "Iteration: 400   cost: 0.05353838213164729  accuracy: 94.87789934718194\n",
      "Iteration: 500   cost: 0.04310556929937227  accuracy: 95.84014174689098\n",
      "Iteration: 600   cost: 0.0360051395636002  accuracy: 96.5048555366632\n",
      "Iteration: 700   cost: 0.030875421050974364  accuracy: 96.9900637260782\n",
      "Iteration: 800   cost: 0.027003293427662337  accuracy: 97.35910224139988\n",
      "Iteration: 900   cost: 0.023980700203902437  accuracy: 97.64884472764295\n",
      "Iteration: 1000   cost: 0.021557925975917252  accuracy: 97.88214949685398\n",
      "Iteration: 1100   cost: 0.019573880058338777  accuracy: 98.0739105468243\n",
      "Iteration: 1200   cost: 0.01792012957513101  accuracy: 98.23423355842537\n",
      "Iteration: 1300   cost: 0.016521085260455922  accuracy: 98.37020928014675\n",
      "Iteration: 1400   cost: 0.015322484087694493  accuracy: 98.48695556012893\n",
      "Iteration: 1500   cost: 0.01428438836785795  accuracy: 98.58825641035202\n",
      "Iteration: 1600   cost: 0.013376765951157072  accuracy: 98.67696847257447\n",
      "Iteration: 1700   cost: 0.012576607765895644  accuracy: 98.75528778309648\n",
      "Iteration: 1800   cost: 0.011865994207465294  accuracy: 98.82492969821135\n",
      "Iteration: 1900   cost: 0.011230765598760097  accuracy: 98.88725319510388\n",
      "Iteration: 1999   cost: 0.010665014225087597  accuracy: 98.94281541283395\n",
      "w:  [[-7.55667535 -8.38305651]]\n",
      "b:  [3.71753195]\n",
      "Predicted Output:  [[0.976 0.009 0.009 0.   ]]\n"
     ]
    }
   ],
   "source": [
    "LEARNING_RATE = 0.3\n",
    "N_EPOCH = 1500\n",
    "REPORT_MOD = 150\n",
    "\n",
    "w, b, report = perceptron(x_train, y_train, LEARNING_RATE, N_EPOCH, REPORT_MOD)\n",
    "y_predict = predict(x_train, w, b)\n",
    "\n",
    "print(\"w: \", w)\n",
    "print(\"b: \", b)\n",
    "print(\"Predicted Output: \", np.around(y_predict, 3))"
   ]
  },
  {
   "cell_type": "code",
   "execution_count": null,
   "id": "431596b6",
   "metadata": {},
   "outputs": [],
   "source": []
  }
 ],
 "metadata": {
  "kernelspec": {
   "display_name": "Python 3 (ipykernel)",
   "language": "python",
   "name": "python3"
  },
  "language_info": {
   "codemirror_mode": {
    "name": "ipython",
    "version": 3
   },
   "file_extension": ".py",
   "mimetype": "text/x-python",
   "name": "python",
   "nbconvert_exporter": "python",
   "pygments_lexer": "ipython3",
   "version": "3.8.1"
  }
 },
 "nbformat": 4,
 "nbformat_minor": 5
}

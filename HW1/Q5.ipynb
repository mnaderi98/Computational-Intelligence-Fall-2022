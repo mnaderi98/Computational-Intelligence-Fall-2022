{
 "cells": [
  {
   "cell_type": "markdown",
   "id": "d3741ee0",
   "metadata": {},
   "source": [
    "# Q5\n",
    "calling libraries"
   ]
  },
  {
   "cell_type": "code",
   "execution_count": 1,
   "id": "2eb59b53",
   "metadata": {},
   "outputs": [],
   "source": [
    "import numpy as np\n",
    "import matplotlib.pyplot as plt"
   ]
  },
  {
   "cell_type": "markdown",
   "id": "daefa045",
   "metadata": {},
   "source": [
    "#### input and output for Nor function"
   ]
  },
  {
   "cell_type": "code",
   "execution_count": 2,
   "id": "e3a66e1f",
   "metadata": {},
   "outputs": [],
   "source": [
    "x_train = np.array([\n",
    "  [0.0, 0.0, 1.0, 1.0], # Input feature x1\n",
    "  [0.0, 1.0, 0.1, 1.0], # Input feature x2\n",
    "])\n",
    "\n",
    "y_train = np.array([\n",
    "  [1.0, 0.0, 0.0, 0.0]\n",
    "])"
   ]
  },
  {
   "cell_type": "markdown",
   "id": "0ef0965d",
   "metadata": {},
   "source": [
    "#### sigmoid function\n",
    "#### predict function\n",
    "#### loss function\n",
    "#### cost function\n",
    "#### Accuracy function"
   ]
  },
  {
   "cell_type": "code",
   "execution_count": 3,
   "id": "b60ac83d",
   "metadata": {},
   "outputs": [],
   "source": [
    "np.random.seed(1)\n",
    "\n",
    "def sigmoid(x):\n",
    "  return 1. / (1 + np.exp(-x))\n",
    "\n",
    "def predict(x, w, b):\n",
    "  return sigmoid(np.dot(w, x) + b)\n",
    "\n",
    "def CEE(y_predict, y):\n",
    "  m = y.shape[1]\n",
    "  loss = -1 * (y * np.log(y_predict) + (1 - y) * np.log(1 - y_predict))\n",
    "  cost = (1 / m) * np.sum(loss)\n",
    "  return loss, cost\n",
    "\n",
    "def MSE(y_predict, y):\n",
    "  m = y.shape[1]\n",
    "  loss = 1/2 * (y_predict - y)**2\n",
    "  cost = (1 / m) * np.sum(loss)\n",
    "  return loss, cost\n",
    "\n",
    "def computeAccuracy(y_predict, y):\n",
    "  return 100 - np.mean(np.abs(y_predict - y)) * 100"
   ]
  },
  {
   "cell_type": "markdown",
   "id": "eb753d6f",
   "metadata": {},
   "source": [
    "#### Perceptron Model"
   ]
  },
  {
   "cell_type": "code",
   "execution_count": 4,
   "id": "62520b49",
   "metadata": {},
   "outputs": [],
   "source": [
    "def perceptron(x, y, learning_rate, iterations, iter_log):\n",
    "  feat, m = x.shape\n",
    "  # Init parameters\n",
    "  # In 1 layer NN initializing parameters to 0 or random doesn't matter\n",
    "  w = np.random.randn(1, feat) * 0.01\n",
    "  b = np.random.randn() * 0.01\n",
    "  costs = []\n",
    "  accuracies = []  \n",
    "  # Batch Gradient Descent\n",
    "  for i in range(iterations):\n",
    "    # Forward propagation\n",
    "    y_predict = predict(x, w, b)\n",
    "    # Cost and Accuracy\n",
    "    difference = y_predict - y\n",
    "    loss, cost = CEE(y_predict, y)\n",
    "    costs.append(cost)\n",
    "    accuracy = computeAccuracy(y_predict, y)\n",
    "    accuracies.append(accuracy)\n",
    "    # Backward propagation\n",
    "    dw = difference * x\n",
    "    db = difference\n",
    "    dW = (1 / m) * np.sum(dw, axis=1)\n",
    "    dB = (1 / m) * np.sum(db, axis=1) \n",
    "    # Update parameters\n",
    "    w -= learning_rate * dW\n",
    "    b -= learning_rate * dB\n",
    "    # Print cost and accuracy\n",
    "    if (not iter_log == 0) and (i % iter_log == 0 or i == iterations - 1):\n",
    "      print('Iteration:', i, '  cost:', cost, ' accuracy:', accuracy)\n",
    "  report = {\n",
    "      'costs': costs,\n",
    "      'accuracies': accuracies}\n",
    "  return w, b, report"
   ]
  },
  {
   "cell_type": "markdown",
   "id": "55ee117c",
   "metadata": {},
   "source": [
    "#### using Model"
   ]
  },
  {
   "cell_type": "code",
   "execution_count": 6,
   "id": "ceeefce8",
   "metadata": {},
   "outputs": [
    {
     "name": "stdout",
     "output_type": "stream",
     "text": [
      "Iteration: 0   cost: 0.6870590606375945  accuracy: 50.308206732367445\n",
      "Iteration: 150   cost: 0.1588000604951101  accuracy: 86.10577139826948\n",
      "Iteration: 300   cost: 0.09117204614499591  accuracy: 91.5475421329291\n",
      "Iteration: 450   cost: 0.06299474413256158  accuracy: 94.02044961529906\n",
      "Iteration: 600   cost: 0.04781847936143997  accuracy: 95.40333998180034\n",
      "Iteration: 750   cost: 0.03841220474071571  accuracy: 96.27862057966048\n",
      "Iteration: 900   cost: 0.03204021874157451  accuracy: 96.87952022952184\n",
      "Iteration: 1050   cost: 0.02745077754157378  accuracy: 97.31633156531402\n",
      "Iteration: 1200   cost: 0.02399372301237016  accuracy: 97.647593283616\n",
      "Iteration: 1350   cost: 0.021299169031722007  accuracy: 97.90712279196521\n",
      "Iteration: 1499   cost: 0.019154664890597372  accuracy: 98.11450962897297\n",
      "w:  [[-6.49301357 -7.19968137]]\n",
      "b:  [3.11912118]\n",
      "Predicted Output:  [[0.958 0.017 0.016 0.   ]]\n"
     ]
    }
   ],
   "source": [
    "LEARNING_RATE = 0.3\n",
    "N_EPOCH = 1500\n",
    "REPORT_MOD = 150\n",
    "\n",
    "w, b, report = perceptron(x_train, y_train, LEARNING_RATE, N_EPOCH, REPORT_MOD)\n",
    "y_predict = predict(x_train, w, b)\n",
    "\n",
    "print(\"w: \", w)\n",
    "print(\"b: \", b)\n",
    "print(\"Predicted Output: \", np.around(y_predict, 3))"
   ]
  },
  {
   "cell_type": "code",
   "execution_count": null,
   "id": "830895bb",
   "metadata": {},
   "outputs": [],
   "source": []
  }
 ],
 "metadata": {
  "kernelspec": {
   "display_name": "Python 3 (ipykernel)",
   "language": "python",
   "name": "python3"
  },
  "language_info": {
   "codemirror_mode": {
    "name": "ipython",
    "version": 3
   },
   "file_extension": ".py",
   "mimetype": "text/x-python",
   "name": "python",
   "nbconvert_exporter": "python",
   "pygments_lexer": "ipython3",
   "version": "3.8.1"
  }
 },
 "nbformat": 4,
 "nbformat_minor": 5
}

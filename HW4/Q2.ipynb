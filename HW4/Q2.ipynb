{
 "cells": [
  {
   "cell_type": "markdown",
   "id": "fd57bfcc",
   "metadata": {},
   "source": [
    "1)import the modules & libraries : `numpy` & `random`"
   ]
  },
  {
   "cell_type": "code",
   "execution_count": 1,
   "id": "28e16f5f",
   "metadata": {},
   "outputs": [],
   "source": [
    "import numpy as np\n",
    "from random import randint, choices"
   ]
  },
  {
   "cell_type": "markdown",
   "id": "3244f8fc",
   "metadata": {},
   "source": [
    "2)initialize data of the question\n",
    "+ `stones`: store the unique value in the range (1, 8) identifies the stone number : numpy array\n",
    "+ `weights`: store the weights of the rocks : numpy array\n",
    "+ `values`: store the values of the rocks : numpy array\n",
    "\n",
    "+ `threshold` : 25 (maximum capacity of knapsack) : int"
   ]
  },
  {
   "cell_type": "code",
   "execution_count": 2,
   "id": "53c6db31",
   "metadata": {},
   "outputs": [],
   "source": [
    "stones = np.array([i for i in range(1, 9)])\n",
    "values = np.array([30, 10, 20, 50, 70, 15, 40, 25])\n",
    "weights = np.array([2, 4, 1, 3, 5, 1, 7, 4])\n",
    "threshold = 25"
   ]
  },
  {
   "cell_type": "markdown",
   "id": "8965da25",
   "metadata": {},
   "source": [
    "3)population:\n",
    "\n",
    "8 chromosomes in the population\n",
    "\n",
    "\n",
    "initialize them randomly"
   ]
  },
  {
   "cell_type": "code",
   "execution_count": 3,
   "id": "58da1cbb",
   "metadata": {},
   "outputs": [],
   "source": [
    "def random_initialization(values, weights, number_of_initialize_population, binary_length):\n",
    "    population = []\n",
    "    fitnesses = []\n",
    "    for i in range(number_of_initialize_population):\n",
    "        x = generate_random_binary(binary_length)\n",
    "        population.append(x)\n",
    "        fitnesses.append(fitness(x, weights, values))\n",
    "    return population, fitnesses"
   ]
  },
  {
   "cell_type": "markdown",
   "id": "cd6061c4",
   "metadata": {},
   "source": [
    "4)fitness"
   ]
  },
  {
   "cell_type": "code",
   "execution_count": 4,
   "id": "ff77b1a5",
   "metadata": {},
   "outputs": [],
   "source": [
    "def fitness(x, weights, values, capacity=25):\n",
    "    weight_sum = 0\n",
    "    value_sum = 0\n",
    "    for i in range(len(x)):\n",
    "        if x[i] == '1':\n",
    "            weight_sum += weights[i]\n",
    "            value_sum += values[i]\n",
    "    if weight_sum>25 or value_sum==0:\n",
    "        return 1\n",
    "    return 1.0/value_sum"
   ]
  },
  {
   "cell_type": "markdown",
   "id": "3c073182",
   "metadata": {},
   "source": [
    "5)crossover and mutation"
   ]
  },
  {
   "cell_type": "code",
   "execution_count": 5,
   "id": "e0b8c200",
   "metadata": {},
   "outputs": [],
   "source": [
    "import random\n",
    "\n",
    "def generate_random_binary(n):\n",
    "    result=''\n",
    "    for i in range(n):\n",
    "        result+=str(random.randint(0, 1))\n",
    "    return result\n",
    "\n",
    "\n",
    "def two_point_crossover(b1, b2):\n",
    "    l = len(b1)\n",
    "    p1 = random.randint(0, l)\n",
    "    p2 = random.randint(0, l)\n",
    "    if p2<p1:\n",
    "        p1, p2 = p2,p1\n",
    "    b3 = b1[0:p1] + b2[p1:p2] + b1[p2:l]\n",
    "    b4 = b2[0:p1] + b1[p1:p2] + b2[p2:l]\n",
    "    return b3, b4\n",
    "\n",
    "\n",
    "def mutation(b, probability):\n",
    "    if random.random() < probability:\n",
    "        m1 = random.randint(0, len(b)-1)\n",
    "        if b[m1] == '0':\n",
    "            b = b[0:m1] + '1' + b[m1+1:]\n",
    "        else:\n",
    "            b = b[0:m1] + '0' + b[m1+1:]\n",
    "    return b"
   ]
  },
  {
   "cell_type": "markdown",
   "id": "20f43cd8",
   "metadata": {},
   "source": [
    "6)Main Function for Genetic Algorithm"
   ]
  },
  {
   "cell_type": "code",
   "execution_count": 6,
   "id": "965cbf8b",
   "metadata": {},
   "outputs": [],
   "source": [
    "def genetic_knapsack(values, weights, number_of_initialize_population, binary_length, max_population, mutation_probability, generations):\n",
    "    population, fitnesses = random_initialization(values, weights, number_of_initialize_population, binary_length)\n",
    "    for i in range(generations):\n",
    "        l = len(population)\n",
    "        if l>max_population:\n",
    "            population = population[l-max_population:]\n",
    "            fitnesses = fitnesses[l-max_population:]\n",
    "  \n",
    "        temp = sorted(set(fitnesses))\n",
    "        x_best = population[fitnesses.index(temp[0])]\n",
    "        x_second_best = population[fitnesses.index(temp[1])]\n",
    "  \n",
    "        x_new_1, x_new_2 = two_point_crossover(x_best, x_second_best)\n",
    "  \n",
    "        x_new_1 = mutation(x_new_1, mutation_probability)\n",
    "        x_new_2 = mutation(x_new_2, mutation_probability)\n",
    "    \n",
    "        if x_new_1 not in population:\n",
    "            population.append(x_new_1)\n",
    "            fitnesses.append(fitness(x_new_1, weights, values))\n",
    "        if x_new_2 not in population:\n",
    "            population.append(x_new_2)\n",
    "            fitnesses.append(fitness(x_new_2, weights, values))\n",
    "    return x_best  "
   ]
  },
  {
   "cell_type": "markdown",
   "id": "ce94f1d3",
   "metadata": {},
   "source": [
    "7)Result"
   ]
  },
  {
   "cell_type": "code",
   "execution_count": 7,
   "id": "7dbf0617",
   "metadata": {},
   "outputs": [
    {
     "name": "stdout",
     "output_type": "stream",
     "text": [
      "best chromosome: 10111111  \n",
      " ------------------\n",
      "zomorod\n",
      "yaqut\n",
      "almas\n",
      "berellian\n",
      "firuze\n",
      "aqiq\n",
      "kahroba\n"
     ]
    }
   ],
   "source": [
    "VALUES = [30, 10, 20, 50, 70, 15, 40, 25]\n",
    "WEIGHTS = [2, 4, 1, 3, 5, 1, 7, 4]\n",
    "NAMES = [\"zomorod\", \"noqre\", \"yaqut\", \"almas\", \"berellian\", \"firuze\", \"aqiq\", \"kahroba\"]\n",
    "\n",
    "best_result = genetic_knapsack(VALUES,\n",
    "                                WEIGHTS,\n",
    "                                number_of_initialize_population=5,\n",
    "                                binary_length=8,\n",
    "                                max_population=10,\n",
    "                                mutation_probability=0.1,\n",
    "                                generations=1000\n",
    "                               )\n",
    "\n",
    "print(\"best chromosome:\", best_result, \" \\n ------------------\")\n",
    "for i in range(len(best_result)):\n",
    "     if best_result[i]=='1':\n",
    "        print(NAMES[i])"
   ]
  },
  {
   "cell_type": "code",
   "execution_count": null,
   "id": "39f1979e",
   "metadata": {},
   "outputs": [],
   "source": []
  }
 ],
 "metadata": {
  "kernelspec": {
   "display_name": "Python 3 (ipykernel)",
   "language": "python",
   "name": "python3"
  },
  "language_info": {
   "codemirror_mode": {
    "name": "ipython",
    "version": 3
   },
   "file_extension": ".py",
   "mimetype": "text/x-python",
   "name": "python",
   "nbconvert_exporter": "python",
   "pygments_lexer": "ipython3",
   "version": "3.9.13"
  }
 },
 "nbformat": 4,
 "nbformat_minor": 5
}
